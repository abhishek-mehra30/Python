{
 "cells": [
  {
   "cell_type": "markdown",
   "id": "f0be8759",
   "metadata": {},
   "source": [
    "# Python For Loops\n",
    "Python For loop is used for sequential traversal i.e. it is used for iterating over an iterable like String, Tuple, List, Set, or Dictionary.\n",
    "\n",
    "Here the iterable is a collection of objects like lists, and tuples. The indented statements inside the for loops are executed once for each item in an iterable. The variable var takes the value of the next item of the iterable each time through the loop."
   ]
  },
  {
   "cell_type": "code",
   "execution_count": null,
   "id": "a7c1ed1b",
   "metadata": {},
   "outputs": [],
   "source": [
    "# Python program to illustrate\n",
    "# Iterating over a list\n",
    "l = [\"M\", \"B\", \"A\"]\n",
    "\n",
    "for i in l:\n",
    "\tprint(i)"
   ]
  },
  {
   "cell_type": "markdown",
   "id": "a96c401d",
   "metadata": {},
   "source": [
    "Python For Loop in Python String"
   ]
  },
  {
   "cell_type": "code",
   "execution_count": null,
   "id": "1ad56837",
   "metadata": {},
   "outputs": [],
   "source": [
    "# Iterating over a String\n",
    "print(\"String Iteration\")\n",
    "\n",
    "s = \"MBA-AI&DS\"\n",
    "for i in s:\n",
    "\tprint(i)"
   ]
  },
  {
   "cell_type": "markdown",
   "id": "fcd14df4",
   "metadata": {},
   "source": [
    "Python For Loop with a step size"
   ]
  },
  {
   "cell_type": "code",
   "execution_count": null,
   "id": "aa4f53f6",
   "metadata": {},
   "outputs": [],
   "source": [
    "num = int(input(\"Enter te number\"))\n",
    "for i in range(1, 11):\n",
    "\tprint(num*i)"
   ]
  },
  {
   "cell_type": "markdown",
   "id": "333b9873",
   "metadata": {},
   "source": [
    "Python For Loop inside a For Loop"
   ]
  },
  {
   "cell_type": "code",
   "execution_count": null,
   "id": "4e5894de",
   "metadata": {},
   "outputs": [],
   "source": [
    "for i in range(1, 4):\n",
    "\tfor j in range(1, 4):\n",
    "\t\tprint(i, j)"
   ]
  },
  {
   "cell_type": "markdown",
   "id": "4a5410b2",
   "metadata": {},
   "source": [
    "Python For Loop with Zip()"
   ]
  },
  {
   "cell_type": "code",
   "execution_count": null,
   "id": "17f165a2",
   "metadata": {},
   "outputs": [],
   "source": [
    "fruits = [\"apple\", \"banana\", \"cherry\", \"XYZ\"]\n",
    "colors = [\"red\", \"yellow\", \"green\"]\n",
    "for fruit, color in zip(fruits, colors):\n",
    "\tprint(fruit, \"is\", color)"
   ]
  },
  {
   "cell_type": "markdown",
   "id": "8564da7e",
   "metadata": {},
   "source": [
    "Python for Loop with Continue Statement"
   ]
  },
  {
   "cell_type": "code",
   "execution_count": 1,
   "id": "d7bf5585",
   "metadata": {},
   "outputs": [
    {
     "name": "stdout",
     "output_type": "stream",
     "text": [
      "Current Letter : G\n",
      "Current Letter : a\n",
      "Current Letter : p\n",
      "Current Letter : h\n",
      "Current Letter : i\n",
      "Current Letter : c\n",
      "Current Letter : E\n",
      "Current Letter : a\n",
      "Current Letter : U\n",
      "Current Letter : n\n",
      "Current Letter : i\n",
      "Current Letter : v\n",
      "Current Letter : e\n",
      "Current Letter : i\n",
      "Current Letter : t\n",
      "Current Letter : y\n"
     ]
    }
   ],
   "source": [
    "# Prints all letters except 'r' and 's'\n",
    "str1 = 'GraphicEraUniversity'\n",
    "for letter in str1:\n",
    "\n",
    "\tif letter == 'r' or letter == 's':\n",
    "\t\tcontinue\n",
    "\tprint('Current Letter :', letter)"
   ]
  },
  {
   "cell_type": "markdown",
   "id": "48116b51",
   "metadata": {},
   "source": [
    "Python For Loop with Break Statement"
   ]
  },
  {
   "cell_type": "code",
   "execution_count": null,
   "id": "08cf3b30",
   "metadata": {},
   "outputs": [],
   "source": [
    "for letter in 'GraphicEraUniversity':\n",
    "\n",
    "\t# break the loop as soon it sees 'r'\n",
    "\t# or 's'\n",
    "\tif letter == 'r' or letter == 's':\n",
    "\t\tbreak\n",
    "\tprint('Current Letter :', letter)\n"
   ]
  },
  {
   "cell_type": "markdown",
   "id": "006d7fdc",
   "metadata": {},
   "source": [
    "Python For Loop with Pass Statement"
   ]
  },
  {
   "cell_type": "code",
   "execution_count": null,
   "id": "e032a9e0",
   "metadata": {},
   "outputs": [],
   "source": [
    "# An empty loop\n",
    "for letter in 'GraphicEraUniversity':\n",
    "\tpass\n",
    "print('Last Letter :', letter)"
   ]
  },
  {
   "cell_type": "code",
   "execution_count": null,
   "id": "1c96046a",
   "metadata": {},
   "outputs": [],
   "source": [
    "sum1 =0\n",
    "for i in range(1,11,2):\n",
    "    sum1=sum1+i\n",
    "print(\"Total: \",sum1)"
   ]
  },
  {
   "cell_type": "code",
   "execution_count": null,
   "id": "eb353000",
   "metadata": {},
   "outputs": [],
   "source": [
    "# Python Program to\n",
    "# show range() basics\n",
    "\n",
    "# printing a number\n",
    "for i in range(10):\n",
    "\tprint(i, end=\" \")\n",
    "\n",
    "# performing sum of first 10 numbers\n",
    "sum = 0\n",
    "for i in range(1, 10):\n",
    "\tsum = sum + i\n",
    "print(\"\\nSum of first 10 numbers :\", sum)"
   ]
  },
  {
   "cell_type": "code",
   "execution_count": null,
   "id": "c482bdc5",
   "metadata": {},
   "outputs": [],
   "source": [
    "#factorial\n",
    "\n",
    "num = int(input(\"number\"))\n",
    " \n",
    "factorial = 1\n",
    "if num < 0 :\n",
    "\tprint(\" invalid input\")\n",
    "elif num == 0:\n",
    "\tprint(\" factorial is 1\")\n",
    "else:\n",
    "\tfor i in range( 1 , num+1):\n",
    "\t\tfactorial = factorial * i\n",
    "\tprint(factorial)"
   ]
  },
  {
   "cell_type": "code",
   "execution_count": null,
   "id": "0d03cc44",
   "metadata": {},
   "outputs": [],
   "source": [
    "travelling = input(\"yes or no\")\n",
    "if (travelling == \"yes\"):\n",
    "\tnum = int(input(\"number of people\"))\n",
    "\tfor num in range( 1 , num+1):\n",
    "\t\tname = input(\"name\")\n",
    "\t\tage = input(\"age\")\n",
    "\t\tgender = input(\"gender\")\n",
    "\t\tprint(name)\n",
    "\t\tprint(age)\n",
    "\t\tprint(gender)"
   ]
  },
  {
   "cell_type": "code",
   "execution_count": null,
   "id": "0665bc40",
   "metadata": {},
   "outputs": [],
   "source": []
  }
 ],
 "metadata": {
  "kernelspec": {
   "display_name": "Python 3 (ipykernel)",
   "language": "python",
   "name": "python3"
  },
  "language_info": {
   "codemirror_mode": {
    "name": "ipython",
    "version": 3
   },
   "file_extension": ".py",
   "mimetype": "text/x-python",
   "name": "python",
   "nbconvert_exporter": "python",
   "pygments_lexer": "ipython3",
   "version": "3.9.13"
  }
 },
 "nbformat": 4,
 "nbformat_minor": 5
}
