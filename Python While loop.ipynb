{
 "cells": [
  {
   "cell_type": "markdown",
   "id": "85c7cd93",
   "metadata": {},
   "source": [
    "## While loop\n",
    "\n",
    "Python While Loop is used to execute a block of statements repeatedly until a given condition is satisfied. And when the condition becomes false, the line immediately after the loop in the program is executed."
   ]
  },
  {
   "cell_type": "code",
   "execution_count": 1,
   "id": "a044dca8",
   "metadata": {},
   "outputs": [
    {
     "name": "stdout",
     "output_type": "stream",
     "text": [
      "Hello Students\n",
      "Hello Students\n",
      "Hello Students\n"
     ]
    }
   ],
   "source": [
    "# Python program to illustrate\n",
    "# while loop\n",
    "count = 0\n",
    "while (count < 3):\n",
    "    count = count + 1\n",
    "    print(\"Hello Students\")"
   ]
  },
  {
   "cell_type": "code",
   "execution_count": 2,
   "id": "f60b371f",
   "metadata": {},
   "outputs": [
    {
     "name": "stdout",
     "output_type": "stream",
     "text": [
      "4\n",
      "3\n",
      "2\n",
      "1\n"
     ]
    }
   ],
   "source": [
    "# checks if list still\n",
    "# contains any element\n",
    "a = [1, 2, 3, 4]\n",
    "\n",
    "while a:\n",
    "    print(a.pop())"
   ]
  },
  {
   "cell_type": "markdown",
   "id": "9ba12e81",
   "metadata": {},
   "source": [
    "With the continue statement we can stop the current iteration, and continue with the next."
   ]
  },
  {
   "cell_type": "code",
   "execution_count": 3,
   "id": "9d75332c",
   "metadata": {},
   "outputs": [
    {
     "name": "stdout",
     "output_type": "stream",
     "text": [
      "1\n",
      "2\n",
      "4\n",
      "5\n",
      "6\n"
     ]
    }
   ],
   "source": [
    "i = 0\n",
    "while i < 6:\n",
    "  i += 1\n",
    "  if i == 3:\n",
    "    continue\n",
    "  print(i)"
   ]
  },
  {
   "cell_type": "markdown",
   "id": "7531b9fa",
   "metadata": {},
   "source": [
    "With the break statement we can stop the loop even if the while condition is true."
   ]
  },
  {
   "cell_type": "code",
   "execution_count": 4,
   "id": "e9151d64",
   "metadata": {},
   "outputs": [
    {
     "name": "stdout",
     "output_type": "stream",
     "text": [
      "1\n",
      "2\n",
      "3\n"
     ]
    }
   ],
   "source": [
    "i = 1\n",
    "while i < 6:\n",
    "  print(i)\n",
    "  if i == 3:\n",
    "    break\n",
    "  i += 1"
   ]
  },
  {
   "cell_type": "markdown",
   "id": "b686f29e",
   "metadata": {},
   "source": [
    "With the else statement we can run a block of code once when the condition no longer is true"
   ]
  },
  {
   "cell_type": "code",
   "execution_count": 5,
   "id": "ceac5c04",
   "metadata": {},
   "outputs": [
    {
     "name": "stdout",
     "output_type": "stream",
     "text": [
      "1\n",
      "2\n",
      "3\n",
      "4\n",
      "5\n",
      "i is no longer less than 6\n"
     ]
    }
   ],
   "source": [
    "i = 1\n",
    "while i < 6:\n",
    "  print(i)\n",
    "  i += 1\n",
    "else:\n",
    "  print(\"i is no longer less than 6\")"
   ]
  },
  {
   "cell_type": "markdown",
   "id": "ebcd965a",
   "metadata": {},
   "source": [
    "Sentinel Controlled Statement"
   ]
  },
  {
   "cell_type": "code",
   "execution_count": 6,
   "id": "a18f6a14",
   "metadata": {},
   "outputs": [
    {
     "name": "stdout",
     "output_type": "stream",
     "text": [
      "Enter a number (-1 to quit): 1\n",
      "Enter a number (-1 to quit): 7\n",
      "Enter a number (-1 to quit): -1\n"
     ]
    }
   ],
   "source": [
    "a = int(input('Enter a number (-1 to quit): '))\n",
    "\n",
    "while a != -1:\n",
    "    a = int(input('Enter a number (-1 to quit): '))"
   ]
  },
  {
   "cell_type": "markdown",
   "id": "5e69c140",
   "metadata": {},
   "source": [
    "Example: While loop on Boolean values:"
   ]
  },
  {
   "cell_type": "code",
   "execution_count": null,
   "id": "fe877c4e",
   "metadata": {},
   "outputs": [],
   "source": [
    "# Initialize a counter\n",
    "count = 0\n",
    "\n",
    "# Loop infinitely\n",
    "while True:\n",
    "    # Increment the counter\n",
    "    count += 1\n",
    "    print(f\"Count is {count}\")\n",
    "\n",
    "    # Check if the counter has reached a certain value\n",
    "    if count == 10:\n",
    "        # If so, exit the loop\n",
    "        break\n",
    "\n",
    "# This will be executed after the loop exits\n",
    "print(\"The loop has ended.\")"
   ]
  },
  {
   "cell_type": "code",
   "execution_count": null,
   "id": "871c6866",
   "metadata": {},
   "outputs": [],
   "source": []
  }
 ],
 "metadata": {
  "kernelspec": {
   "display_name": "Python 3 (ipykernel)",
   "language": "python",
   "name": "python3"
  },
  "language_info": {
   "codemirror_mode": {
    "name": "ipython",
    "version": 3
   },
   "file_extension": ".py",
   "mimetype": "text/x-python",
   "name": "python",
   "nbconvert_exporter": "python",
   "pygments_lexer": "ipython3",
   "version": "3.10.9"
  }
 },
 "nbformat": 4,
 "nbformat_minor": 5
}
