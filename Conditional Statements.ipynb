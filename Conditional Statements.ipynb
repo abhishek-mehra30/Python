{
 "cells": [
  {
   "cell_type": "markdown",
   "id": "4e47a3a5",
   "metadata": {},
   "source": [
    "There comes situations in real life when we need to make some decisions and based on these decisions, we decide what should we do next.\n",
    "\n",
    "# Types of Control Flow in Python\n",
    "In Python programming language, the type of control flow statements is as follows:\n",
    "\n",
    "The if statement\n",
    "\n",
    "The if-else statement\n",
    "\n",
    "The nested-if statement\n",
    "\n",
    "The if-elif-else ladder"
   ]
  },
  {
   "cell_type": "markdown",
   "id": "6a3fea03",
   "metadata": {},
   "source": [
    "# Python if statement\n",
    "The if statement is the most simple decision-making statement. It is used to decide whether a certain statement or block of statements will be executed or not."
   ]
  },
  {
   "cell_type": "code",
   "execution_count": 2,
   "id": "edd7e361",
   "metadata": {},
   "outputs": [
    {
     "name": "stdout",
     "output_type": "stream",
     "text": [
      "20 is greater than 15\n",
      "I am Not in if\n"
     ]
    }
   ],
   "source": [
    "# python program to illustrate If statement\n",
    "\n",
    "i = 20\n",
    "\n",
    "if (i > 15):\n",
    "\tprint(i, \"is greater than 15\")\n",
    "print(\"I am Not in if\")"
   ]
  },
  {
   "cell_type": "markdown",
   "id": "c7e5f20b",
   "metadata": {},
   "source": [
    "# Python If-Else Statement\n",
    "The if statement alone tells us that if a condition is true it will execute a block of statements and if the condition is false it won’t. But if we want to do something else if the condition is false, we can use the else statement with if statement to execute a block of code when the if condition is false."
   ]
  },
  {
   "cell_type": "code",
   "execution_count": 2,
   "id": "fc1b4240",
   "metadata": {},
   "outputs": [
    {
     "name": "stdout",
     "output_type": "stream",
     "text": [
      "i is greater than 15\n",
      "i'm in else Block\n",
      "i'm not in if and not in else Block\n"
     ]
    }
   ],
   "source": [
    "# python program to illustrate If else statement\n",
    "#!/usr/bin/python\n",
    "\n",
    "i = 20\n",
    "if (i < 15):\n",
    "\tprint(\"i is smaller than 15\")\n",
    "\tprint(\"i'm in if Block\")\n",
    "else:\n",
    "\tprint(\"i is greater than 15\")\n",
    "\tprint(\"i'm in else Block\")\n",
    "print(\"i'm not in if and not in else Block\")"
   ]
  },
  {
   "cell_type": "markdown",
   "id": "1f77283a",
   "metadata": {},
   "source": [
    "# Nested-If Statement in Python\n",
    "A nested if is an if statement that is the target of another if statement. Nested if statements mean an if statement inside another if statement. Yes, Python allows us to nest if statements within if statements. i.e., we can place an if statement inside another if statement."
   ]
  },
  {
   "cell_type": "code",
   "execution_count": 7,
   "id": "e7464327",
   "metadata": {},
   "outputs": [
    {
     "name": "stdout",
     "output_type": "stream",
     "text": [
      "i is smaller than 15\n",
      "i is smaller than 12 too\n"
     ]
    }
   ],
   "source": [
    "# python program to illustrate nested If statement\n",
    "\n",
    "i = 10\n",
    "if (i == 10):\n",
    "\n",
    "\t# First if statement\n",
    "\tif (i < 15):\n",
    "\t\tprint(\"i is smaller than 15\")\n",
    "\t\t\n",
    "\t# Nested - if statement\n",
    "\t# Will only be executed if statement above\n",
    "\t# it is true\n",
    "\tif (i < 12):\n",
    "\t\tprint(\"i is smaller than 12 too\")\n",
    "\telse:\n",
    "\t\tprint(\"i is greater than 15\")"
   ]
  },
  {
   "cell_type": "markdown",
   "id": "0bdd0f69",
   "metadata": {},
   "source": [
    "# Python if-elif-else Ladder\n",
    "Here, a user can decide among multiple options. The if statements are executed from the top down. As soon as one of the conditions controlling the if is true, the statement associated with that if is executed, and the rest of the ladder is bypassed. If none of the conditions is true, then the final else statement will be executed."
   ]
  },
  {
   "cell_type": "code",
   "execution_count": 4,
   "id": "f333d60d",
   "metadata": {},
   "outputs": [
    {
     "name": "stdout",
     "output_type": "stream",
     "text": [
      "i is 20\n"
     ]
    }
   ],
   "source": [
    "# Python program to illustrate if-elif-else ladder\n",
    "#!/usr/bin/python\n",
    "\n",
    "i = 20\n",
    "if (i == 10):\n",
    "\tprint(\"i is 10\")\n",
    "elif (i == 15):\n",
    "\tprint(\"i is 15\")\n",
    "elif (i == 20):\n",
    "\tprint(\"i is 20\")\n",
    "else:\n",
    "\tprint(\"i is not present\")"
   ]
  },
  {
   "cell_type": "markdown",
   "id": "b29af772",
   "metadata": {},
   "source": [
    "# Short Hand if statement\n",
    "Whenever there is only a single statement to be executed inside the if block then shorthand if can be used. The statement can be put on the same line as the if statement."
   ]
  },
  {
   "cell_type": "code",
   "execution_count": 5,
   "id": "793fb733",
   "metadata": {},
   "outputs": [
    {
     "name": "stdout",
     "output_type": "stream",
     "text": [
      "i is less than 15\n"
     ]
    }
   ],
   "source": [
    "# Python program to illustrate short hand if\n",
    "i = 10\n",
    "if i < 15: print(\"i is less than 15\")"
   ]
  },
  {
   "cell_type": "markdown",
   "id": "ef3b6f84",
   "metadata": {},
   "source": [
    "# Short Hand if-else statement\n",
    "This can be used to write the if-else statements in a single line where only one statement is needed in both the if and else blocks. "
   ]
  },
  {
   "cell_type": "code",
   "execution_count": 6,
   "id": "4e839a44",
   "metadata": {},
   "outputs": [
    {
     "name": "stdout",
     "output_type": "stream",
     "text": [
      "True\n"
     ]
    }
   ],
   "source": [
    "# Python program to illustrate short hand if-else\n",
    "i = 10\n",
    "print(True) if i < 15 else print(False)"
   ]
  },
  {
   "cell_type": "code",
   "execution_count": 7,
   "id": "70100c28",
   "metadata": {},
   "outputs": [
    {
     "name": "stdout",
     "output_type": "stream",
     "text": [
      "Enter A and B12 12\n"
     ]
    }
   ],
   "source": [
    "x, y = input(\"Enter A and B\").split()"
   ]
  },
  {
   "cell_type": "markdown",
   "id": "8bcd1db8",
   "metadata": {},
   "source": [
    "# Chaining comparison operators in Python"
   ]
  },
  {
   "cell_type": "code",
   "execution_count": 11,
   "id": "75888d6a",
   "metadata": {},
   "outputs": [
    {
     "name": "stdout",
     "output_type": "stream",
     "text": [
      "True\n",
      "False\n",
      "True\n",
      "True\n",
      "True\n"
     ]
    }
   ],
   "source": [
    "# Python code to illustrate\n",
    "# chaining comparison operators\n",
    "x = 5\n",
    "print(1 < x < 10)\n",
    "print(10 < x < 20 )\n",
    "print(x < 10 < x*10 < 100)\n",
    "print(10 > x <= 9)\n",
    "print(5 == x > 4)"
   ]
  },
  {
   "cell_type": "code",
   "execution_count": 12,
   "id": "771918bc",
   "metadata": {},
   "outputs": [
    {
     "name": "stdout",
     "output_type": "stream",
     "text": [
      "True\n",
      "False\n"
     ]
    }
   ],
   "source": [
    "# Python code to illustrate\n",
    "# chaining comparison operators\n",
    "a, b, c, d, e, f = 0, 5, 12, 0, 15, 15\n",
    "exp1 = a <= b < c > d is not e is f\n",
    "exp2 = a is d > f is not c\n",
    "print(exp1)\n",
    "print(exp2)"
   ]
  },
  {
   "cell_type": "code",
   "execution_count": 13,
   "id": "03b70c3d",
   "metadata": {},
   "outputs": [
    {
     "name": "stdout",
     "output_type": "stream",
     "text": [
      "y is greater than x and less than z\n"
     ]
    }
   ],
   "source": [
    "x = 5\n",
    "y = 10\n",
    "z = 15\n",
    "\n",
    "if x < y < z:\n",
    "\tprint(\"y is greater than x and less than z\")"
   ]
  },
  {
   "cell_type": "code",
   "execution_count": 14,
   "id": "0dfb0b3f",
   "metadata": {},
   "outputs": [
    {
     "name": "stdout",
     "output_type": "stream",
     "text": [
      "This will not be printed as expected!\n"
     ]
    }
   ],
   "source": [
    "x=5\n",
    "y=10\n",
    "z=15\n",
    "\n",
    "if x < y or y < z and z < x:\n",
    "\tprint(\"This will not be printed as expected!\")"
   ]
  },
  {
   "cell_type": "code",
   "execution_count": 15,
   "id": "7c72b9c2",
   "metadata": {},
   "outputs": [],
   "source": [
    "x=5\n",
    "y=10\n",
    "z=15\n",
    "\n",
    "\n",
    "if (x < y or y < z) and z < x:\n",
    "\tprint(\"This will be printed as expected\")"
   ]
  },
  {
   "cell_type": "code",
   "execution_count": null,
   "id": "302b67cf",
   "metadata": {},
   "outputs": [],
   "source": []
  }
 ],
 "metadata": {
  "kernelspec": {
   "display_name": "Python 3 (ipykernel)",
   "language": "python",
   "name": "python3"
  },
  "language_info": {
   "codemirror_mode": {
    "name": "ipython",
    "version": 3
   },
   "file_extension": ".py",
   "mimetype": "text/x-python",
   "name": "python",
   "nbconvert_exporter": "python",
   "pygments_lexer": "ipython3",
   "version": "3.9.13"
  }
 },
 "nbformat": 4,
 "nbformat_minor": 5
}
