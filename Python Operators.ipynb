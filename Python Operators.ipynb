{
 "cells": [
  {
   "cell_type": "markdown",
   "id": "9f6360e5",
   "metadata": {},
   "source": [
    "# Python Operator"
   ]
  },
  {
   "cell_type": "markdown",
   "id": "9664f29d",
   "metadata": {},
   "source": [
    "Python divides the operators in the following groups:\n",
    "\n",
    "Arithmetic operators\n",
    "Assignment operators\n",
    "Comparison operators\n",
    "Logical operators\n",
    "Identity operators\n",
    "Membership operators\n",
    "Bitwise operators"
   ]
  },
  {
   "cell_type": "code",
   "execution_count": 1,
   "id": "fe2a6888",
   "metadata": {},
   "outputs": [
    {
     "name": "stdout",
     "output_type": "stream",
     "text": [
      "13\n",
      "5\n",
      "36\n",
      "1\n",
      "6561\n"
     ]
    }
   ],
   "source": [
    "#Arithmetic Operators With Addition, Subtraction, Multiplication, Modulo and Power\n",
    "\n",
    "# Examples of Arithmetic Operator\n",
    "a = 9\n",
    "b = 4\n",
    "\n",
    "# Addition of numbers\n",
    "add = a + b\n",
    "\n",
    "# Subtraction of numbers\n",
    "sub = a - b\n",
    "\n",
    "# Multiplication of number\n",
    "mul = a * b\n",
    "\n",
    "# Modulo of both number\n",
    "mod = a % b\n",
    "\n",
    "# Power\n",
    "p = a ** b\n",
    "\n",
    "# print results\n",
    "print(add)\n",
    "print(sub)\n",
    "print(mul)\n",
    "print(mod)\n",
    "print(p)"
   ]
  },
  {
   "cell_type": "code",
   "execution_count": 2,
   "id": "bc62b4c3",
   "metadata": {},
   "outputs": [
    {
     "name": "stdout",
     "output_type": "stream",
     "text": [
      "False\n",
      "True\n",
      "False\n",
      "True\n",
      "False\n",
      "True\n"
     ]
    }
   ],
   "source": [
    "#Comparison Operators in Python\n",
    "\n",
    "# Examples of Relational Operators\n",
    "a = 13\n",
    "b = 33\n",
    "\n",
    "# a > b is False\n",
    "print(a > b)\n",
    "\n",
    "# a < b is True\n",
    "print(a < b)\n",
    "\n",
    "# a == b is False\n",
    "print(a == b)\n",
    "\n",
    "# a != b is True\n",
    "print(a != b)\n",
    "\n",
    "# a >= b is False\n",
    "print(a >= b)\n",
    "\n",
    "# a <= b is True\n",
    "print(a <= b)"
   ]
  },
  {
   "cell_type": "code",
   "execution_count": 3,
   "id": "e12a9cd3",
   "metadata": {},
   "outputs": [
    {
     "name": "stdout",
     "output_type": "stream",
     "text": [
      "False\n",
      "True\n",
      "False\n"
     ]
    }
   ],
   "source": [
    "#Logical Operators in Python\n",
    "\n",
    "# Examples of Logical Operator\n",
    "a = True\n",
    "b = False\n",
    "\n",
    "# Print a and b is False\n",
    "print(a and b)\n",
    "\n",
    "# Print a or b is True\n",
    "print(a or b)\n",
    "\n",
    "# Print not a is False\n",
    "print(not a)"
   ]
  },
  {
   "cell_type": "code",
   "execution_count": 1,
   "id": "526efceb",
   "metadata": {},
   "outputs": [
    {
     "name": "stdout",
     "output_type": "stream",
     "text": [
      "0\n",
      "14\n",
      "-5\n",
      "14\n",
      "2\n",
      "40\n"
     ]
    }
   ],
   "source": [
    "#Bitwise Operators in Python\n",
    "\n",
    "# Examples of Bitwise operators\n",
    "a = 10\n",
    "b = 4\n",
    "\n",
    "# Print bitwise AND operation\n",
    "print(a & b)\n",
    "\n",
    "# Print bitwise OR operation\n",
    "print(a | b)\n",
    "\n",
    "# Print bitwise NOT operation\n",
    "print(~b)\n",
    "\n",
    "# print bitwise XOR operation\n",
    "print(a ^ b)\n",
    "\n",
    "# print bitwise right shift operation\n",
    "print(a >> 2)\n",
    "\n",
    "# print bitwise left shift operation\n",
    "print(a << 2)"
   ]
  },
  {
   "cell_type": "code",
   "execution_count": 1,
   "id": "91577cc9",
   "metadata": {},
   "outputs": [
    {
     "name": "stdout",
     "output_type": "stream",
     "text": [
      "10\n",
      "20\n",
      "10\n",
      "100\n"
     ]
    }
   ],
   "source": [
    "#Assignment Operators in Python\n",
    "\n",
    "# Examples of Assignment Operators\n",
    "a = 10\n",
    "\n",
    "# Assign value\n",
    "b = a\n",
    "print(b)\n",
    "\n",
    "# Add and assign value\n",
    "b += a\n",
    "print(b)\n",
    "\n",
    "# Subtract and assign value\n",
    "b -= a\n",
    "print(b)\n",
    "\n",
    "# multiply and assign\n",
    "b *= a\n",
    "print(b)"
   ]
  },
  {
   "cell_type": "code",
   "execution_count": 6,
   "id": "c655ec51",
   "metadata": {},
   "outputs": [
    {
     "name": "stdout",
     "output_type": "stream",
     "text": [
      "True\n",
      "True\n"
     ]
    }
   ],
   "source": [
    "#Identity Operators in Python\n",
    "\n",
    "a = 10\n",
    "b = 20\n",
    "c = a\n",
    "\n",
    "print(a is not b)\n",
    "print(a is c)"
   ]
  },
  {
   "cell_type": "code",
   "execution_count": 7,
   "id": "e13f8f29",
   "metadata": {},
   "outputs": [
    {
     "name": "stdout",
     "output_type": "stream",
     "text": [
      "x is NOT present in given list\n",
      "y is present in given list\n"
     ]
    }
   ],
   "source": [
    "#Membership Operators in Python\n",
    "#In Python, in and not in are the membership operators that are used to test whether a value or variable is in a sequence.\n",
    "\n",
    "# Python program to illustrate\n",
    "# not 'in' operator\n",
    "x = 24\n",
    "y = 20\n",
    "list = [10, 20, 30, 40, 50]\n",
    "\n",
    "if (x not in list):\n",
    "\tprint(\"x is NOT present in given list\")\n",
    "else:\n",
    "\tprint(\"x is present in given list\")\n",
    "\n",
    "if (y in list):\n",
    "\tprint(\"y is present in given list\")\n",
    "else:\n",
    "\tprint(\"y is NOT present in given list\")"
   ]
  }
 ],
 "metadata": {
  "kernelspec": {
   "display_name": "Python 3 (ipykernel)",
   "language": "python",
   "name": "python3"
  },
  "language_info": {
   "codemirror_mode": {
    "name": "ipython",
    "version": 3
   },
   "file_extension": ".py",
   "mimetype": "text/x-python",
   "name": "python",
   "nbconvert_exporter": "python",
   "pygments_lexer": "ipython3",
   "version": "3.10.9"
  }
 },
 "nbformat": 4,
 "nbformat_minor": 5
}
