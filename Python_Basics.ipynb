{
 "cells": [
  {
   "cell_type": "markdown",
   "id": "e1a5318d",
   "metadata": {},
   "source": [
    "# First\n",
    "## Second\n",
    "### ASD\n"
   ]
  },
  {
   "cell_type": "markdown",
   "id": "b2434136",
   "metadata": {},
   "source": [
    "# Comments example and printing the hello world"
   ]
  },
  {
   "cell_type": "code",
   "execution_count": null,
   "id": "4475eb78",
   "metadata": {},
   "outputs": [],
   "source": [
    "print"
   ]
  },
  {
   "cell_type": "code",
   "execution_count": 17,
   "id": "7fd070cd",
   "metadata": {},
   "outputs": [
    {
     "name": "stdout",
     "output_type": "stream",
     "text": [
      "Enter 1st fruitApple\n",
      "Enter 2nd fruitBanana\n",
      "Enter 3rd fruitMango\n",
      "My fruit list contains:  ['Apple', 'Banana', 'Mango']\n"
     ]
    }
   ],
   "source": [
    "#Below code print a list\n",
    "fruit1 = input(\"Enter 1st fruit\")\n",
    "fruit2 = input(\"Enter 2nd fruit\")\n",
    "fruit3 = input(\"Enter 3rd fruit\")\n",
    "\n",
    "my_fruit_list = [fruit1, fruit2, fruit3]\n",
    "\n",
    "print(\"My fruit list contains: \",my_fruit_list)"
   ]
  },
  {
   "cell_type": "code",
   "execution_count": 19,
   "id": "65f897b2",
   "metadata": {},
   "outputs": [
    {
     "name": "stdout",
     "output_type": "stream",
     "text": [
      "Enter 3 fruits namesAp Ba Ma\n",
      "My fruit list contains:  ['Ap', 'Ba', 'Ma']\n"
     ]
    }
   ],
   "source": [
    "fruit1, fruit2, fruit3 = input(\"Enter 3 fruits names\").split()\n",
    "\n",
    "my_fruit_list = [fruit1, fruit2, fruit3]\n",
    "\n",
    "print(\"My fruit list contains: \",my_fruit_list)"
   ]
  },
  {
   "cell_type": "code",
   "execution_count": 2,
   "id": "50d47298",
   "metadata": {},
   "outputs": [
    {
     "name": "stdout",
     "output_type": "stream",
     "text": [
      "Hello World!\n"
     ]
    }
   ],
   "source": [
    "#I am printing hello world. \n",
    "\n",
    "'I am printing hello world.'\n",
    "\n",
    "\"I am printing hello world.\" \n",
    "\n",
    "\"\"\"\n",
    "I am printing hello world. \n",
    "I love to use python for my data science projects to become a data scientist.\n",
    "\"\"\"\n",
    "print(\"Hello World!\")\n",
    "\n",
    "a=19"
   ]
  },
  {
   "cell_type": "code",
   "execution_count": 5,
   "id": "04305d99",
   "metadata": {},
   "outputs": [
    {
     "name": "stdout",
     "output_type": "stream",
     "text": [
      "My birthday is on:  19\n"
     ]
    }
   ],
   "source": [
    "print(\"My birthday is on: \",a)"
   ]
  },
  {
   "cell_type": "code",
   "execution_count": null,
   "id": "3651fc61",
   "metadata": {},
   "outputs": [],
   "source": []
  },
  {
   "cell_type": "code",
   "execution_count": 14,
   "id": "5bf51dde",
   "metadata": {},
   "outputs": [
    {
     "name": "stdout",
     "output_type": "stream",
     "text": [
      "The value and type of variable = MBA <class 'str'>\n"
     ]
    }
   ],
   "source": [
    "#print a value of variable\n",
    "\n",
    "integer_variable = 'MBA'\n",
    "print(\"The value and type of variable =\",integer_variable, type(integer_variable))"
   ]
  },
  {
   "cell_type": "code",
   "execution_count": 12,
   "id": "1ca36565",
   "metadata": {},
   "outputs": [
    {
     "data": {
      "text/plain": [
       "int"
      ]
     },
     "execution_count": 12,
     "metadata": {},
     "output_type": "execute_result"
    }
   ],
   "source": [
    "#check data type of a variable\n",
    "\n",
    "type(integer_variable)"
   ]
  },
  {
   "cell_type": "code",
   "execution_count": 6,
   "id": "adf9b854",
   "metadata": {},
   "outputs": [
    {
     "name": "stdout",
     "output_type": "stream",
     "text": [
      "Enter your first name: CP\n"
     ]
    }
   ],
   "source": [
    "#take input from user\n",
    "\n",
    "first_name = input(\"Enter your first name: \")"
   ]
  },
  {
   "cell_type": "code",
   "execution_count": 5,
   "id": "5b5d744c",
   "metadata": {},
   "outputs": [
    {
     "data": {
      "text/plain": [
       "str"
      ]
     },
     "execution_count": 5,
     "metadata": {},
     "output_type": "execute_result"
    }
   ],
   "source": [
    "type(first_name)"
   ]
  },
  {
   "cell_type": "code",
   "execution_count": 14,
   "id": "1b169321",
   "metadata": {},
   "outputs": [
    {
     "data": {
      "text/plain": [
       "4"
      ]
     },
     "execution_count": 14,
     "metadata": {},
     "output_type": "execute_result"
    }
   ],
   "source": [
    "#execute inline statements\n",
    "\n",
    "2+2"
   ]
  },
  {
   "cell_type": "code",
   "execution_count": 8,
   "id": "15825bc0",
   "metadata": {},
   "outputs": [
    {
     "name": "stdout",
     "output_type": "stream",
     "text": [
      "First Number12\n",
      "Second Number78\n",
      "Sum= 1278\n"
     ]
    }
   ],
   "source": [
    "#take two inputs from users and add them\n",
    "\n",
    "a = input(\"First Number\")\n",
    "b = input(\"Second Number\")\n",
    "\n",
    "sum = int(a) + int(b)\n",
    "\n",
    "print(\"Sum=\", sum)"
   ]
  },
  {
   "cell_type": "code",
   "execution_count": 16,
   "id": "ac29d1d2",
   "metadata": {},
   "outputs": [
    {
     "data": {
      "text/plain": [
       "10.0"
      ]
     },
     "execution_count": 16,
     "metadata": {},
     "output_type": "execute_result"
    }
   ],
   "source": [
    "#example of typecasting\n",
    "\n",
    "num = 10\n",
    "num1 = float(num)\n",
    "num1"
   ]
  },
  {
   "cell_type": "markdown",
   "id": "cd68cc87",
   "metadata": {},
   "source": [
    "# String Basics"
   ]
  },
  {
   "cell_type": "code",
   "execution_count": 18,
   "id": "c1816fe0",
   "metadata": {},
   "outputs": [],
   "source": [
    "name = 'MBA-AI&DS'"
   ]
  },
  {
   "cell_type": "code",
   "execution_count": 19,
   "id": "91e69c19",
   "metadata": {},
   "outputs": [
    {
     "data": {
      "text/plain": [
       "'M'"
      ]
     },
     "execution_count": 19,
     "metadata": {},
     "output_type": "execute_result"
    }
   ],
   "source": [
    "#print indexes characters\n",
    "name[0]"
   ]
  },
  {
   "cell_type": "code",
   "execution_count": 4,
   "id": "d7fe9818",
   "metadata": {},
   "outputs": [
    {
     "data": {
      "text/plain": [
       "'M'"
      ]
     },
     "execution_count": 4,
     "metadata": {},
     "output_type": "execute_result"
    }
   ],
   "source": [
    "name[-9]"
   ]
  },
  {
   "cell_type": "code",
   "execution_count": 5,
   "id": "04d191b8",
   "metadata": {},
   "outputs": [
    {
     "data": {
      "text/plain": [
       "'S'"
      ]
     },
     "execution_count": 5,
     "metadata": {},
     "output_type": "execute_result"
    }
   ],
   "source": [
    "name[-1]"
   ]
  },
  {
   "cell_type": "code",
   "execution_count": 20,
   "id": "4bc064a6",
   "metadata": {},
   "outputs": [
    {
     "data": {
      "text/plain": [
       "'MBA'"
      ]
     },
     "execution_count": 20,
     "metadata": {},
     "output_type": "execute_result"
    }
   ],
   "source": [
    "#print characters ranges\n",
    "\n",
    "name[0:3]"
   ]
  },
  {
   "cell_type": "code",
   "execution_count": 21,
   "id": "1ba2f848",
   "metadata": {},
   "outputs": [
    {
     "data": {
      "text/plain": [
       "'B-I'"
      ]
     },
     "execution_count": 21,
     "metadata": {},
     "output_type": "execute_result"
    }
   ],
   "source": [
    "#String slicing\n",
    "\n",
    "name[1:6:2]"
   ]
  },
  {
   "cell_type": "code",
   "execution_count": 22,
   "id": "d016a26b",
   "metadata": {},
   "outputs": [
    {
     "data": {
      "text/plain": [
       "'MBA-A'"
      ]
     },
     "execution_count": 22,
     "metadata": {},
     "output_type": "execute_result"
    }
   ],
   "source": [
    "#Another example of slicing\n",
    "\n",
    "name[:5]"
   ]
  },
  {
   "cell_type": "code",
   "execution_count": 23,
   "id": "82d886c8",
   "metadata": {},
   "outputs": [
    {
     "data": {
      "text/plain": [
       "'BA-AI&DS'"
      ]
     },
     "execution_count": 23,
     "metadata": {},
     "output_type": "execute_result"
    }
   ],
   "source": [
    "name[1:]"
   ]
  },
  {
   "cell_type": "markdown",
   "id": "9363da07",
   "metadata": {},
   "source": [
    "# String Functions"
   ]
  },
  {
   "cell_type": "code",
   "execution_count": 24,
   "id": "f5246f8d",
   "metadata": {},
   "outputs": [
    {
     "data": {
      "text/plain": [
       "9"
      ]
     },
     "execution_count": 24,
     "metadata": {},
     "output_type": "execute_result"
    }
   ],
   "source": [
    "len(name)"
   ]
  },
  {
   "cell_type": "code",
   "execution_count": 25,
   "id": "ad82869a",
   "metadata": {},
   "outputs": [
    {
     "data": {
      "text/plain": [
       "1"
      ]
     },
     "execution_count": 25,
     "metadata": {},
     "output_type": "execute_result"
    }
   ],
   "source": [
    "name.count(\"M\")"
   ]
  },
  {
   "cell_type": "code",
   "execution_count": 26,
   "id": "6402d3e5",
   "metadata": {},
   "outputs": [
    {
     "data": {
      "text/plain": [
       "'Mba-ai&ds'"
      ]
     },
     "execution_count": 26,
     "metadata": {},
     "output_type": "execute_result"
    }
   ],
   "source": [
    "name.capitalize()"
   ]
  },
  {
   "cell_type": "code",
   "execution_count": 27,
   "id": "16de0e68",
   "metadata": {},
   "outputs": [
    {
     "data": {
      "text/plain": [
       "'MBA-AI&DS'"
      ]
     },
     "execution_count": 27,
     "metadata": {},
     "output_type": "execute_result"
    }
   ],
   "source": [
    "name"
   ]
  },
  {
   "cell_type": "code",
   "execution_count": 28,
   "id": "a62edde3",
   "metadata": {},
   "outputs": [],
   "source": [
    "name1 = name.capitalize()"
   ]
  },
  {
   "cell_type": "code",
   "execution_count": 29,
   "id": "85369514",
   "metadata": {},
   "outputs": [
    {
     "data": {
      "text/plain": [
       "'Mba-ai&ds'"
      ]
     },
     "execution_count": 29,
     "metadata": {},
     "output_type": "execute_result"
    }
   ],
   "source": [
    "name1"
   ]
  },
  {
   "cell_type": "code",
   "execution_count": 30,
   "id": "efea8cf7",
   "metadata": {},
   "outputs": [
    {
     "data": {
      "text/plain": [
       "'MBA-AI&DS'"
      ]
     },
     "execution_count": 30,
     "metadata": {},
     "output_type": "execute_result"
    }
   ],
   "source": [
    "#return a string in upper case\n",
    "name1.upper()"
   ]
  },
  {
   "cell_type": "code",
   "execution_count": 31,
   "id": "a13a21e1",
   "metadata": {},
   "outputs": [
    {
     "data": {
      "text/plain": [
       "'mba-ai&ds'"
      ]
     },
     "execution_count": 31,
     "metadata": {},
     "output_type": "execute_result"
    }
   ],
   "source": [
    "name.lower()"
   ]
  },
  {
   "cell_type": "code",
   "execution_count": 32,
   "id": "6189e29c",
   "metadata": {},
   "outputs": [
    {
     "data": {
      "text/plain": [
       "'MBZ-ZI&DS'"
      ]
     },
     "execution_count": 32,
     "metadata": {},
     "output_type": "execute_result"
    }
   ],
   "source": [
    "name.replace(\"A\",\"Z\")"
   ]
  },
  {
   "cell_type": "code",
   "execution_count": 1,
   "id": "b3627e69",
   "metadata": {},
   "outputs": [],
   "source": [
    "strn = 'Hello class! Welcome in Python lab'"
   ]
  },
  {
   "cell_type": "code",
   "execution_count": 13,
   "id": "f0fe24ed",
   "metadata": {},
   "outputs": [],
   "source": [
    "#Returns list of substrings\n",
    "strn1 = strn.split(\" \",2)"
   ]
  },
  {
   "cell_type": "code",
   "execution_count": 14,
   "id": "85f12c74",
   "metadata": {},
   "outputs": [
    {
     "data": {
      "text/plain": [
       "['Hello', 'class!', 'Welcome in Python lab']"
      ]
     },
     "execution_count": 14,
     "metadata": {},
     "output_type": "execute_result"
    }
   ],
   "source": [
    "strn1"
   ]
  },
  {
   "cell_type": "code",
   "execution_count": 39,
   "id": "d62926e1",
   "metadata": {},
   "outputs": [
    {
     "data": {
      "text/plain": [
       "'Hello'"
      ]
     },
     "execution_count": 39,
     "metadata": {},
     "output_type": "execute_result"
    }
   ],
   "source": [
    "strn1[0]"
   ]
  },
  {
   "cell_type": "code",
   "execution_count": 40,
   "id": "38627a8b",
   "metadata": {},
   "outputs": [],
   "source": [
    "strn2 = ' MBA '"
   ]
  },
  {
   "cell_type": "code",
   "execution_count": 41,
   "id": "02372dfc",
   "metadata": {},
   "outputs": [
    {
     "data": {
      "text/plain": [
       "'MBA'"
      ]
     },
     "execution_count": 41,
     "metadata": {},
     "output_type": "execute_result"
    }
   ],
   "source": [
    "strn2.strip()"
   ]
  },
  {
   "cell_type": "code",
   "execution_count": 42,
   "id": "68b69abb",
   "metadata": {},
   "outputs": [
    {
     "data": {
      "text/plain": [
       "'MBA-AI&DS'"
      ]
     },
     "execution_count": 42,
     "metadata": {},
     "output_type": "execute_result"
    }
   ],
   "source": [
    "name"
   ]
  },
  {
   "cell_type": "code",
   "execution_count": 43,
   "id": "7df2533e",
   "metadata": {},
   "outputs": [
    {
     "data": {
      "text/plain": [
       "'Mba-ai&ds'"
      ]
     },
     "execution_count": 43,
     "metadata": {},
     "output_type": "execute_result"
    }
   ],
   "source": [
    "name1"
   ]
  },
  {
   "cell_type": "code",
   "execution_count": 55,
   "id": "954f962c",
   "metadata": {},
   "outputs": [
    {
     "data": {
      "text/plain": [
       "'mBA-AI&DS'"
      ]
     },
     "execution_count": 55,
     "metadata": {},
     "output_type": "execute_result"
    }
   ],
   "source": [
    "name1.swapcase()"
   ]
  },
  {
   "cell_type": "markdown",
   "id": "92b25671",
   "metadata": {},
   "source": [
    "# Python List"
   ]
  },
  {
   "cell_type": "code",
   "execution_count": 1,
   "id": "185fedb2",
   "metadata": {},
   "outputs": [],
   "source": [
    "numbers = [1,2,3,4,5,6]"
   ]
  },
  {
   "cell_type": "code",
   "execution_count": 2,
   "id": "c3ec0d33",
   "metadata": {},
   "outputs": [
    {
     "data": {
      "text/plain": [
       "list"
      ]
     },
     "execution_count": 2,
     "metadata": {},
     "output_type": "execute_result"
    }
   ],
   "source": [
    "type(numbers)"
   ]
  },
  {
   "cell_type": "code",
   "execution_count": 3,
   "id": "b381333d",
   "metadata": {},
   "outputs": [
    {
     "data": {
      "text/plain": [
       "4"
      ]
     },
     "execution_count": 3,
     "metadata": {},
     "output_type": "execute_result"
    }
   ],
   "source": [
    "numbers[3]"
   ]
  },
  {
   "cell_type": "code",
   "execution_count": 2,
   "id": "22c69fb4",
   "metadata": {},
   "outputs": [
    {
     "data": {
      "text/plain": [
       "[1, 2, 3, 4, 5, 6]"
      ]
     },
     "execution_count": 2,
     "metadata": {},
     "output_type": "execute_result"
    }
   ],
   "source": [
    "numbers"
   ]
  },
  {
   "cell_type": "code",
   "execution_count": 5,
   "id": "80eb3235",
   "metadata": {},
   "outputs": [
    {
     "name": "stdout",
     "output_type": "stream",
     "text": [
      "[6, 5, 4, 3, 2, 1]\n"
     ]
    }
   ],
   "source": [
    "numbers.reverse()\n",
    "\n",
    "print(numbers)"
   ]
  },
  {
   "cell_type": "code",
   "execution_count": 3,
   "id": "e87212b2",
   "metadata": {},
   "outputs": [],
   "source": [
    "#list of different types of values\n",
    "\n",
    "mix = [1, 2.5, 'myname']"
   ]
  },
  {
   "cell_type": "code",
   "execution_count": 4,
   "id": "0c25bf99",
   "metadata": {},
   "outputs": [
    {
     "data": {
      "text/plain": [
       "[1, 2.5, 'myname']"
      ]
     },
     "execution_count": 4,
     "metadata": {},
     "output_type": "execute_result"
    }
   ],
   "source": [
    "mix"
   ]
  },
  {
   "cell_type": "code",
   "execution_count": 6,
   "id": "95f0151e",
   "metadata": {},
   "outputs": [
    {
     "data": {
      "text/plain": [
       "2.5"
      ]
     },
     "execution_count": 6,
     "metadata": {},
     "output_type": "execute_result"
    }
   ],
   "source": [
    "mix[1]"
   ]
  },
  {
   "cell_type": "code",
   "execution_count": 7,
   "id": "1e45129f",
   "metadata": {},
   "outputs": [
    {
     "name": "stdout",
     "output_type": "stream",
     "text": [
      "['cherry', 'banana', 'apple']\n"
     ]
    }
   ],
   "source": [
    "fruits = ['apple', 'banana', 'cherry']\n",
    "\n",
    "fruits.reverse()\n",
    "\n",
    "print(fruits)"
   ]
  },
  {
   "cell_type": "code",
   "execution_count": 5,
   "id": "fcc311a9",
   "metadata": {},
   "outputs": [
    {
     "name": "stdout",
     "output_type": "stream",
     "text": [
      "[1, 2, 3, 4, 5]\n"
     ]
    }
   ],
   "source": [
    "numbers2 = [5,4,3,2,1]\n",
    "numbers2.sort()\n",
    "print(numbers2)"
   ]
  },
  {
   "cell_type": "code",
   "execution_count": 9,
   "id": "274661b8",
   "metadata": {},
   "outputs": [
    {
     "data": {
      "text/plain": [
       "[1, 2, 3, 4, 5]"
      ]
     },
     "execution_count": 9,
     "metadata": {},
     "output_type": "execute_result"
    }
   ],
   "source": [
    "numbers2"
   ]
  },
  {
   "cell_type": "code",
   "execution_count": 10,
   "id": "76a90e48",
   "metadata": {},
   "outputs": [],
   "source": [
    "numbers2.append(6)"
   ]
  },
  {
   "cell_type": "code",
   "execution_count": 11,
   "id": "8bc2e9c5",
   "metadata": {},
   "outputs": [
    {
     "data": {
      "text/plain": [
       "[1, 2, 3, 4, 5, 6]"
      ]
     },
     "execution_count": 11,
     "metadata": {},
     "output_type": "execute_result"
    }
   ],
   "source": [
    "numbers2"
   ]
  },
  {
   "cell_type": "code",
   "execution_count": 12,
   "id": "bd69a5d7",
   "metadata": {},
   "outputs": [
    {
     "data": {
      "text/plain": [
       "6"
      ]
     },
     "execution_count": 12,
     "metadata": {},
     "output_type": "execute_result"
    }
   ],
   "source": [
    "numbers2.pop(5)"
   ]
  },
  {
   "cell_type": "code",
   "execution_count": 6,
   "id": "37a086f3",
   "metadata": {},
   "outputs": [
    {
     "data": {
      "text/plain": [
       "[1, 2, 3, 4, 5]"
      ]
     },
     "execution_count": 6,
     "metadata": {},
     "output_type": "execute_result"
    }
   ],
   "source": [
    "numbers2"
   ]
  },
  {
   "cell_type": "code",
   "execution_count": 7,
   "id": "8c9b4fc7",
   "metadata": {},
   "outputs": [],
   "source": [
    "numbers2.insert(3,8)"
   ]
  },
  {
   "cell_type": "code",
   "execution_count": 8,
   "id": "10075fe8",
   "metadata": {},
   "outputs": [
    {
     "data": {
      "text/plain": [
       "[1, 2, 3, 8, 4, 5]"
      ]
     },
     "execution_count": 8,
     "metadata": {},
     "output_type": "execute_result"
    }
   ],
   "source": [
    "numbers2"
   ]
  },
  {
   "cell_type": "code",
   "execution_count": 9,
   "id": "a089dd73",
   "metadata": {},
   "outputs": [],
   "source": [
    "numbers2.remove(8)"
   ]
  },
  {
   "cell_type": "code",
   "execution_count": 10,
   "id": "a961979e",
   "metadata": {},
   "outputs": [
    {
     "data": {
      "text/plain": [
       "[1, 2, 3, 4, 5]"
      ]
     },
     "execution_count": 10,
     "metadata": {},
     "output_type": "execute_result"
    }
   ],
   "source": [
    "numbers2"
   ]
  },
  {
   "cell_type": "code",
   "execution_count": 19,
   "id": "c7e865cd",
   "metadata": {},
   "outputs": [
    {
     "data": {
      "text/plain": [
       "1"
      ]
     },
     "execution_count": 19,
     "metadata": {},
     "output_type": "execute_result"
    }
   ],
   "source": [
    "numbers2.count(1)"
   ]
  },
  {
   "cell_type": "markdown",
   "id": "afe411ef",
   "metadata": {},
   "source": [
    "# Python Tuples"
   ]
  },
  {
   "cell_type": "code",
   "execution_count": 26,
   "id": "d6c3a084",
   "metadata": {},
   "outputs": [],
   "source": [
    "#Creation of tuples\n",
    "\n",
    "Empty_Tuple = ()\n",
    "One_Element_Tuple = (1,)\n",
    "More_Element_Tuple = (1, 7, 2)"
   ]
  },
  {
   "cell_type": "code",
   "execution_count": 27,
   "id": "8c308dcf",
   "metadata": {},
   "outputs": [
    {
     "name": "stdout",
     "output_type": "stream",
     "text": [
      "()\n",
      "(1,)\n",
      "(1, 7, 2)\n"
     ]
    }
   ],
   "source": [
    "print(Empty_Tuple)\n",
    "print(One_Element_Tuple)\n",
    "print(More_Element_Tuple)"
   ]
  },
  {
   "cell_type": "code",
   "execution_count": 28,
   "id": "a1c432cc",
   "metadata": {},
   "outputs": [
    {
     "name": "stdout",
     "output_type": "stream",
     "text": [
      "0\n",
      "1\n",
      "3\n"
     ]
    }
   ],
   "source": [
    "print(len(Empty_Tuple))\n",
    "print(len(One_Element_Tuple))\n",
    "print(len(More_Element_Tuple))"
   ]
  },
  {
   "cell_type": "code",
   "execution_count": 29,
   "id": "d2d7a0ab",
   "metadata": {},
   "outputs": [
    {
     "name": "stdout",
     "output_type": "stream",
     "text": [
      "<class 'tuple'>\n"
     ]
    }
   ],
   "source": [
    "print(type(One_Element_Tuple))"
   ]
  },
  {
   "cell_type": "code",
   "execution_count": 95,
   "id": "301e8631",
   "metadata": {},
   "outputs": [],
   "source": [
    "tuple1 = (\"apple\", \"banana\", \"cherry\")\n",
    "tuple2 = (1, 5, 7, 9, 3)\n",
    "tuple3 = (True, False, False)"
   ]
  },
  {
   "cell_type": "code",
   "execution_count": 98,
   "id": "6139565d",
   "metadata": {},
   "outputs": [
    {
     "data": {
      "text/plain": [
       "1"
      ]
     },
     "execution_count": 98,
     "metadata": {},
     "output_type": "execute_result"
    }
   ],
   "source": [
    "tuple2.count(1)"
   ]
  },
  {
   "cell_type": "code",
   "execution_count": 99,
   "id": "2f03d2c3",
   "metadata": {},
   "outputs": [
    {
     "data": {
      "text/plain": [
       "0"
      ]
     },
     "execution_count": 99,
     "metadata": {},
     "output_type": "execute_result"
    }
   ],
   "source": [
    "tuple2.index(1)"
   ]
  },
  {
   "cell_type": "markdown",
   "id": "4e51d96e",
   "metadata": {},
   "source": [
    "# Python Dictionary"
   ]
  },
  {
   "cell_type": "code",
   "execution_count": 100,
   "id": "38e96d00",
   "metadata": {},
   "outputs": [
    {
     "name": "stdout",
     "output_type": "stream",
     "text": [
      "{'brand': 'Ford', 'model': 'Mustang', 'year': 1964}\n"
     ]
    }
   ],
   "source": [
    "thisdict = {\n",
    "  \"brand\": \"Ford\",\n",
    "  \"model\": \"Mustang\",\n",
    "  \"year\": 1964\n",
    "}\n",
    "print(thisdict)"
   ]
  },
  {
   "cell_type": "code",
   "execution_count": 101,
   "id": "71b2689b",
   "metadata": {},
   "outputs": [
    {
     "name": "stdout",
     "output_type": "stream",
     "text": [
      "Ford\n"
     ]
    }
   ],
   "source": [
    "print(thisdict[\"brand\"])"
   ]
  },
  {
   "cell_type": "code",
   "execution_count": 102,
   "id": "1757aab5",
   "metadata": {},
   "outputs": [
    {
     "name": "stdout",
     "output_type": "stream",
     "text": [
      "{'brand': 'Ford', 'model': 'Mustang', 'year': 2020}\n"
     ]
    }
   ],
   "source": [
    "#avoid duplicates\n",
    "\n",
    "thisdict = {\n",
    "  \"brand\": \"Ford\",\n",
    "  \"model\": \"Mustang\",\n",
    "  \"year\": 1964,\n",
    "  \"year\": 2020\n",
    "}\n",
    "print(thisdict)"
   ]
  },
  {
   "cell_type": "code",
   "execution_count": 104,
   "id": "3a3e7161",
   "metadata": {},
   "outputs": [
    {
     "name": "stdout",
     "output_type": "stream",
     "text": [
      "3\n"
     ]
    }
   ],
   "source": [
    "#Dictionay length\n",
    "print(len(thisdict))"
   ]
  },
  {
   "cell_type": "code",
   "execution_count": 105,
   "id": "dcf97f29",
   "metadata": {},
   "outputs": [
    {
     "name": "stdout",
     "output_type": "stream",
     "text": [
      "<class 'dict'>\n"
     ]
    }
   ],
   "source": [
    "print(type(thisdict))"
   ]
  },
  {
   "cell_type": "code",
   "execution_count": 106,
   "id": "2b1a6500",
   "metadata": {},
   "outputs": [
    {
     "name": "stdout",
     "output_type": "stream",
     "text": [
      "{'name': 'John', 'age': 36, 'country': 'Norway'}\n"
     ]
    }
   ],
   "source": [
    "#The dict() Constructor\n",
    "\n",
    "thisdict1 = dict(name = \"John\", age = 36, country = \"Norway\")\n",
    "print(thisdict1)"
   ]
  },
  {
   "cell_type": "code",
   "execution_count": 107,
   "id": "3fc1caae",
   "metadata": {},
   "outputs": [
    {
     "data": {
      "text/plain": [
       "dict_keys(['brand', 'model', 'year'])"
      ]
     },
     "execution_count": 107,
     "metadata": {},
     "output_type": "execute_result"
    }
   ],
   "source": [
    "#Get Keys\n",
    "\n",
    "x = thisdict.keys()\n",
    "x"
   ]
  },
  {
   "cell_type": "code",
   "execution_count": 108,
   "id": "b5266480",
   "metadata": {},
   "outputs": [
    {
     "data": {
      "text/plain": [
       "dict_values(['Ford', 'Mustang', 2020])"
      ]
     },
     "execution_count": 108,
     "metadata": {},
     "output_type": "execute_result"
    }
   ],
   "source": [
    "#Get Values\n",
    "\n",
    "y = thisdict.values()\n",
    "y"
   ]
  },
  {
   "cell_type": "code",
   "execution_count": 109,
   "id": "e8d1c21d",
   "metadata": {},
   "outputs": [
    {
     "data": {
      "text/plain": [
       "dict_items([('brand', 'Ford'), ('model', 'Mustang'), ('year', 2020)])"
      ]
     },
     "execution_count": 109,
     "metadata": {},
     "output_type": "execute_result"
    }
   ],
   "source": [
    "#Get Items\n",
    "\n",
    "z = thisdict.items()\n",
    "z"
   ]
  },
  {
   "cell_type": "code",
   "execution_count": 1,
   "id": "c916ee73",
   "metadata": {},
   "outputs": [],
   "source": [
    "#Update Dictionary\n",
    "\n",
    "thisdict2 = {\n",
    "  \"brand\": \"Ford\",\n",
    "  \"model\": \"Mustang\",\n",
    "  \"year\": 1964\n",
    "}"
   ]
  },
  {
   "cell_type": "code",
   "execution_count": 3,
   "id": "41d79327",
   "metadata": {},
   "outputs": [
    {
     "data": {
      "text/plain": [
       "{'brand': 'Ford', 'model': 'Mustang', 'year': 1964}"
      ]
     },
     "execution_count": 3,
     "metadata": {},
     "output_type": "execute_result"
    }
   ],
   "source": [
    "thisdict2"
   ]
  },
  {
   "cell_type": "code",
   "execution_count": 4,
   "id": "0adc8e5c",
   "metadata": {},
   "outputs": [],
   "source": [
    "thisdict2.update({\"year\": 2023})"
   ]
  },
  {
   "cell_type": "code",
   "execution_count": 5,
   "id": "5751bf4d",
   "metadata": {},
   "outputs": [
    {
     "data": {
      "text/plain": [
       "{'brand': 'Ford', 'model': 'Mustang', 'year': 2023}"
      ]
     },
     "execution_count": 5,
     "metadata": {},
     "output_type": "execute_result"
    }
   ],
   "source": [
    "thisdict2"
   ]
  },
  {
   "cell_type": "code",
   "execution_count": 6,
   "id": "41ad18ef",
   "metadata": {},
   "outputs": [
    {
     "name": "stdout",
     "output_type": "stream",
     "text": [
      "{'brand': 'Ford', 'model': 'Mustang', 'year': 2023, 'color': 'red'}\n"
     ]
    }
   ],
   "source": [
    "#Adding Items\n",
    "\n",
    "thisdict2[\"color\"] = \"red\"\n",
    "print(thisdict2)"
   ]
  },
  {
   "cell_type": "code",
   "execution_count": 7,
   "id": "137f4b0b",
   "metadata": {},
   "outputs": [
    {
     "name": "stdout",
     "output_type": "stream",
     "text": [
      "My dict after removin model {'brand': 'Ford', 'year': 2023, 'color': 'red'}\n"
     ]
    }
   ],
   "source": [
    "#Removing Items\n",
    "\n",
    "thisdict2.pop(\"model\")\n",
    "print(\"My dict after removin model\",thisdict2)"
   ]
  },
  {
   "cell_type": "code",
   "execution_count": 18,
   "id": "9db783b9",
   "metadata": {},
   "outputs": [
    {
     "name": "stdout",
     "output_type": "stream",
     "text": [
      "Enter 1st namew\n",
      "Enter 1st language1\n",
      "Enter 2nd namex\n",
      "Enter 2nd language2\n",
      "Enter 3rd namey\n",
      "Enter 3rd language3\n",
      "Enter 4th namez\n",
      "Enter 4th language4\n"
     ]
    }
   ],
   "source": [
    "key1 = input(\"Enter 1st name\")\n",
    "value1 = input(\"Enter 1st language\")\n",
    "\n",
    "key2 = input(\"Enter 2nd name\")\n",
    "value2 = input(\"Enter 2nd language\")\n",
    "\n",
    "key3 = input(\"Enter 3rd name\")\n",
    "value3 = input(\"Enter 3rd language\")\n",
    "\n",
    "key4 = input(\"Enter 4th name\")\n",
    "value4 = input(\"Enter 4th language\")\n",
    "\n",
    "my_dict = {\n",
    "    key1 : value1,\n",
    "    key2 : value2,\n",
    "    key3 : value3,\n",
    "    key4 : value4\n",
    "}"
   ]
  },
  {
   "cell_type": "code",
   "execution_count": 20,
   "id": "3674779c",
   "metadata": {},
   "outputs": [
    {
     "data": {
      "text/plain": [
       "{'w': '1', 'x': '2', 'y': '3', 'z': '4'}"
      ]
     },
     "execution_count": 20,
     "metadata": {},
     "output_type": "execute_result"
    }
   ],
   "source": [
    "my_dict"
   ]
  },
  {
   "cell_type": "code",
   "execution_count": 21,
   "id": "eb3d7cbf",
   "metadata": {},
   "outputs": [
    {
     "data": {
      "text/plain": [
       "dict"
      ]
     },
     "execution_count": 21,
     "metadata": {},
     "output_type": "execute_result"
    }
   ],
   "source": [
    "type(my_dict)"
   ]
  },
  {
   "cell_type": "markdown",
   "id": "d2b97913",
   "metadata": {},
   "source": [
    "# Python Sets"
   ]
  },
  {
   "cell_type": "code",
   "execution_count": 114,
   "id": "739b25b0",
   "metadata": {},
   "outputs": [
    {
     "name": "stdout",
     "output_type": "stream",
     "text": [
      "{'apple', 'cherry', 'banana'}\n"
     ]
    }
   ],
   "source": [
    "thisset = {\"apple\", \"banana\", \"cherry\"}\n",
    "print(thisset)"
   ]
  },
  {
   "cell_type": "code",
   "execution_count": 115,
   "id": "937d0d31",
   "metadata": {},
   "outputs": [
    {
     "name": "stdout",
     "output_type": "stream",
     "text": [
      "<class 'set'>\n"
     ]
    }
   ],
   "source": [
    "print(type(thisset))"
   ]
  },
  {
   "cell_type": "code",
   "execution_count": 116,
   "id": "badfd7e7",
   "metadata": {},
   "outputs": [
    {
     "name": "stdout",
     "output_type": "stream",
     "text": [
      "3\n"
     ]
    }
   ],
   "source": [
    "print(len(thisset))"
   ]
  },
  {
   "cell_type": "code",
   "execution_count": 117,
   "id": "1576c060",
   "metadata": {},
   "outputs": [
    {
     "data": {
      "text/plain": [
       "{34, 40, True, 'abc', 'male'}"
      ]
     },
     "execution_count": 117,
     "metadata": {},
     "output_type": "execute_result"
    }
   ],
   "source": [
    "set1 = {\"abc\", 34, True, 40, \"male\"}\n",
    "set1"
   ]
  },
  {
   "cell_type": "code",
   "execution_count": 118,
   "id": "ef2d8fb8",
   "metadata": {},
   "outputs": [
    {
     "name": "stdout",
     "output_type": "stream",
     "text": [
      "{'apple', 'cherry', 'banana'}\n"
     ]
    }
   ],
   "source": [
    "#The set() Constructor\n",
    "\n",
    "thisset1 = set((\"apple\", \"banana\", \"cherry\")) # note the double round-brackets\n",
    "print(thisset1)"
   ]
  },
  {
   "cell_type": "code",
   "execution_count": 119,
   "id": "f8cf74f8",
   "metadata": {},
   "outputs": [
    {
     "name": "stdout",
     "output_type": "stream",
     "text": [
      "{'apple', 'cherry', 'orange', 'banana'}\n"
     ]
    }
   ],
   "source": [
    "#Add Items\n",
    "\n",
    "thisset.add(\"orange\")\n",
    "\n",
    "print(thisset)"
   ]
  },
  {
   "cell_type": "code",
   "execution_count": 120,
   "id": "69e4fcf3",
   "metadata": {},
   "outputs": [
    {
     "name": "stdout",
     "output_type": "stream",
     "text": [
      "{'apple', 'pineapple', 'cherry', 'orange', 'banana', 'papaya', 'mango'}\n"
     ]
    }
   ],
   "source": [
    "#Add Sets\n",
    "\n",
    "tropical = {\"pineapple\", \"mango\", \"papaya\"}\n",
    "\n",
    "thisset.update(tropical)\n",
    "\n",
    "print(thisset)"
   ]
  },
  {
   "cell_type": "code",
   "execution_count": 121,
   "id": "e02987af",
   "metadata": {},
   "outputs": [
    {
     "name": "stdout",
     "output_type": "stream",
     "text": [
      "{'apple', 'pineapple', 'cherry', 'kiwi', 'orange', 'banana', 'papaya', 'mango'}\n"
     ]
    }
   ],
   "source": [
    "#Add Any Iterable\n",
    "\n",
    "mylist = [\"kiwi\", \"orange\"]\n",
    "\n",
    "thisset.update(mylist)\n",
    "\n",
    "print(thisset)"
   ]
  },
  {
   "cell_type": "code",
   "execution_count": 122,
   "id": "3534c621",
   "metadata": {},
   "outputs": [
    {
     "name": "stdout",
     "output_type": "stream",
     "text": [
      "{'apple', 'pineapple', 'cherry', 'kiwi', 'orange', 'papaya', 'mango'}\n"
     ]
    }
   ],
   "source": [
    "#Remove Item\n",
    "\n",
    "thisset.remove(\"banana\")\n",
    "\n",
    "print(thisset)"
   ]
  },
  {
   "cell_type": "code",
   "execution_count": 123,
   "id": "b9464577",
   "metadata": {},
   "outputs": [
    {
     "name": "stdout",
     "output_type": "stream",
     "text": [
      "set()\n"
     ]
    }
   ],
   "source": [
    "#The clear() method empties the set:\n",
    "\n",
    "thisset.clear()\n",
    "\n",
    "print(thisset)"
   ]
  },
  {
   "cell_type": "code",
   "execution_count": 126,
   "id": "9a9b2d0e",
   "metadata": {},
   "outputs": [],
   "source": [
    "#The del keyword will delete the set completely:"
   ]
  },
  {
   "cell_type": "code",
   "execution_count": 127,
   "id": "e8ff15a6",
   "metadata": {},
   "outputs": [
    {
     "name": "stdout",
     "output_type": "stream",
     "text": [
      "{1, 'b', 2, 3, 'a', 'c'}\n"
     ]
    }
   ],
   "source": [
    "#Join Two Sets\n",
    "\n",
    "set1 = {\"a\", \"b\" , \"c\"}\n",
    "set2 = {1, 2, 3}\n",
    "\n",
    "set3 = set1.union(set2)\n",
    "print(set3)"
   ]
  },
  {
   "cell_type": "code",
   "execution_count": 128,
   "id": "3bfe9156",
   "metadata": {},
   "outputs": [
    {
     "name": "stdout",
     "output_type": "stream",
     "text": [
      "{1, 'b', 2, 3, 'a', 'c'}\n"
     ]
    }
   ],
   "source": [
    "#The update() method inserts the items in set2 into set1:\n",
    "\n",
    "set1.update(set2)\n",
    "print(set1)"
   ]
  },
  {
   "cell_type": "code",
   "execution_count": 129,
   "id": "7c928f14",
   "metadata": {},
   "outputs": [
    {
     "name": "stdout",
     "output_type": "stream",
     "text": [
      "{'apple'}\n"
     ]
    }
   ],
   "source": [
    "#Keep ONLY the Duplicates\n",
    "\n",
    "x = {\"apple\", \"banana\", \"cherry\"}\n",
    "y = {\"google\", \"microsoft\", \"apple\"}\n",
    "\n",
    "x.intersection_update(y)\n",
    "\n",
    "print(x)"
   ]
  },
  {
   "cell_type": "code",
   "execution_count": 130,
   "id": "a8ce3c65",
   "metadata": {},
   "outputs": [
    {
     "name": "stdout",
     "output_type": "stream",
     "text": [
      "{'cherry', 'google', 'banana', 'microsoft'}\n"
     ]
    }
   ],
   "source": [
    "#Keep All, But NOT the Duplicates\n",
    "\n",
    "x = {\"apple\", \"banana\", \"cherry\"}\n",
    "y = {\"google\", \"microsoft\", \"apple\"}\n",
    "\n",
    "x.symmetric_difference_update(y)\n",
    "\n",
    "print(x)"
   ]
  },
  {
   "cell_type": "code",
   "execution_count": 1,
   "id": "ffe2db77",
   "metadata": {},
   "outputs": [
    {
     "name": "stdout",
     "output_type": "stream",
     "text": [
      "The list of keywords is : \n",
      "['False', 'None', 'True', 'and', 'as', 'assert', 'async', 'await', 'break', 'class', 'continue', 'def', 'del', 'elif', 'else', 'except', 'finally', 'for', 'from', 'global', 'if', 'import', 'in', 'is', 'lambda', 'nonlocal', 'not', 'or', 'pass', 'raise', 'return', 'try', 'while', 'with', 'yield']\n"
     ]
    }
   ],
   "source": [
    "# Python code to demonstrate working of iskeyword()\n",
    "\n",
    "# importing \"keyword\" for keyword operations\n",
    "import keyword\n",
    "\n",
    "# printing all keywords at once using \"kwlist()\"\n",
    "print(\"The list of keywords is : \")\n",
    "print(keyword.kwlist)"
   ]
  },
  {
   "cell_type": "code",
   "execution_count": null,
   "id": "de46c6b3",
   "metadata": {},
   "outputs": [],
   "source": []
  }
 ],
 "metadata": {
  "kernelspec": {
   "display_name": "Python 3 (ipykernel)",
   "language": "python",
   "name": "python3"
  },
  "language_info": {
   "codemirror_mode": {
    "name": "ipython",
    "version": 3
   },
   "file_extension": ".py",
   "mimetype": "text/x-python",
   "name": "python",
   "nbconvert_exporter": "python",
   "pygments_lexer": "ipython3",
   "version": "3.10.9"
  }
 },
 "nbformat": 4,
 "nbformat_minor": 5
}
